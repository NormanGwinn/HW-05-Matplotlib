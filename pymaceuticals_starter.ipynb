{
 "cells": [
  {
   "cell_type": "markdown",
   "metadata": {},
   "source": [
    "## Dependencies and starter code"
   ]
  },
  {
   "cell_type": "code",
   "execution_count": 63,
   "metadata": {
    "scrolled": false
   },
   "outputs": [],
   "source": [
    "# Dependencies and Setup\n",
    "import matplotlib.pyplot as plt\n",
    "import pandas as pd\n",
    "import numpy as np\n",
    "import scipy.stats as st\n",
    "import random\n",
    "\n",
    "# Study data files\n",
    "mouse_metadata_fn = \"../data/Mouse_metadata.csv\"\n",
    "study_results_fn = \"../data/Study_results.csv\"\n",
    "\n",
    "# Read the mouse data and the study results\n",
    "mouse_metadata = pd.read_csv(mouse_metadata_fn)\n",
    "study_results = pd.read_csv(study_results_fn)\n",
    "\n",
    "# Combine the data into a single dataset\n",
    "mouse_study = pd.merge(mouse_metadata, study_results)"
   ]
  },
  {
   "cell_type": "markdown",
   "metadata": {},
   "source": [
    "## Generate a summary statistics table consisting of the mean, median, variance, standard deviation, and SEM of the tumor volume for each drug regimen."
   ]
  },
  {
   "cell_type": "code",
   "execution_count": 64,
   "metadata": {
    "scrolled": false
   },
   "outputs": [
    {
     "name": "stderr",
     "output_type": "stream",
     "text": [
      "C:\\Users\\norma\\Anaconda3\\lib\\site-packages\\numpy\\core\\_methods.py:217: RuntimeWarning: Degrees of freedom <= 0 for slice\n",
      "  keepdims=keepdims)\n",
      "C:\\Users\\norma\\Anaconda3\\lib\\site-packages\\numpy\\core\\_methods.py:186: RuntimeWarning: invalid value encountered in true_divide\n",
      "  arrmean, rcount, out=arrmean, casting='unsafe', subok=False)\n",
      "C:\\Users\\norma\\Anaconda3\\lib\\site-packages\\numpy\\core\\_methods.py:209: RuntimeWarning: invalid value encountered in double_scalars\n",
      "  ret = ret.dtype.type(ret / rcount)\n"
     ]
    },
    {
     "data": {
      "text/html": [
       "<style  type=\"text/css\" >\n",
       "</style><table id=\"T_933c9dde_5dbd_11ea_b969_5c879cbbbf8d\" ><caption>Total Volume By Drug</caption><thead>    <tr>        <th class=\"blank level0\" ></th>        <th class=\"col_heading level0 col0\" >Mean</th>        <th class=\"col_heading level0 col1\" >Median</th>        <th class=\"col_heading level0 col2\" >Variance</th>        <th class=\"col_heading level0 col3\" >Std Dev</th>        <th class=\"col_heading level0 col4\" >Std Err</th>    </tr>    <tr>        <th class=\"index_name level0\" >Drug Regimen</th>        <th class=\"blank\" ></th>        <th class=\"blank\" ></th>        <th class=\"blank\" ></th>        <th class=\"blank\" ></th>        <th class=\"blank\" ></th>    </tr></thead><tbody>\n",
       "                <tr>\n",
       "                        <th id=\"T_933c9dde_5dbd_11ea_b969_5c879cbbbf8dlevel0_row0\" class=\"row_heading level0 row0\" >Capomulin</th>\n",
       "                        <td id=\"T_933c9dde_5dbd_11ea_b969_5c879cbbbf8drow0_col0\" class=\"data row0 col0\" >40.68</td>\n",
       "                        <td id=\"T_933c9dde_5dbd_11ea_b969_5c879cbbbf8drow0_col1\" class=\"data row0 col1\" >41.56</td>\n",
       "                        <td id=\"T_933c9dde_5dbd_11ea_b969_5c879cbbbf8drow0_col2\" class=\"data row0 col2\" >24.95</td>\n",
       "                        <td id=\"T_933c9dde_5dbd_11ea_b969_5c879cbbbf8drow0_col3\" class=\"data row0 col3\" >4.99</td>\n",
       "                        <td id=\"T_933c9dde_5dbd_11ea_b969_5c879cbbbf8drow0_col4\" class=\"data row0 col4\" >0.33</td>\n",
       "            </tr>\n",
       "            <tr>\n",
       "                        <th id=\"T_933c9dde_5dbd_11ea_b969_5c879cbbbf8dlevel0_row1\" class=\"row_heading level0 row1\" >Ceftamin</th>\n",
       "                        <td id=\"T_933c9dde_5dbd_11ea_b969_5c879cbbbf8drow1_col0\" class=\"data row1 col0\" >52.59</td>\n",
       "                        <td id=\"T_933c9dde_5dbd_11ea_b969_5c879cbbbf8drow1_col1\" class=\"data row1 col1\" >51.78</td>\n",
       "                        <td id=\"T_933c9dde_5dbd_11ea_b969_5c879cbbbf8drow1_col2\" class=\"data row1 col2\" >39.29</td>\n",
       "                        <td id=\"T_933c9dde_5dbd_11ea_b969_5c879cbbbf8drow1_col3\" class=\"data row1 col3\" >6.27</td>\n",
       "                        <td id=\"T_933c9dde_5dbd_11ea_b969_5c879cbbbf8drow1_col4\" class=\"data row1 col4\" >0.47</td>\n",
       "            </tr>\n",
       "            <tr>\n",
       "                        <th id=\"T_933c9dde_5dbd_11ea_b969_5c879cbbbf8dlevel0_row2\" class=\"row_heading level0 row2\" >Infubinol</th>\n",
       "                        <td id=\"T_933c9dde_5dbd_11ea_b969_5c879cbbbf8drow2_col0\" class=\"data row2 col0\" >52.88</td>\n",
       "                        <td id=\"T_933c9dde_5dbd_11ea_b969_5c879cbbbf8drow2_col1\" class=\"data row2 col1\" >51.82</td>\n",
       "                        <td id=\"T_933c9dde_5dbd_11ea_b969_5c879cbbbf8drow2_col2\" class=\"data row2 col2\" >43.13</td>\n",
       "                        <td id=\"T_933c9dde_5dbd_11ea_b969_5c879cbbbf8drow2_col3\" class=\"data row2 col3\" >6.57</td>\n",
       "                        <td id=\"T_933c9dde_5dbd_11ea_b969_5c879cbbbf8drow2_col4\" class=\"data row2 col4\" >0.49</td>\n",
       "            </tr>\n",
       "            <tr>\n",
       "                        <th id=\"T_933c9dde_5dbd_11ea_b969_5c879cbbbf8dlevel0_row3\" class=\"row_heading level0 row3\" >Ketapril</th>\n",
       "                        <td id=\"T_933c9dde_5dbd_11ea_b969_5c879cbbbf8drow3_col0\" class=\"data row3 col0\" >55.24</td>\n",
       "                        <td id=\"T_933c9dde_5dbd_11ea_b969_5c879cbbbf8drow3_col1\" class=\"data row3 col1\" >53.70</td>\n",
       "                        <td id=\"T_933c9dde_5dbd_11ea_b969_5c879cbbbf8drow3_col2\" class=\"data row3 col2\" >68.55</td>\n",
       "                        <td id=\"T_933c9dde_5dbd_11ea_b969_5c879cbbbf8drow3_col3\" class=\"data row3 col3\" >8.28</td>\n",
       "                        <td id=\"T_933c9dde_5dbd_11ea_b969_5c879cbbbf8drow3_col4\" class=\"data row3 col4\" >0.60</td>\n",
       "            </tr>\n",
       "            <tr>\n",
       "                        <th id=\"T_933c9dde_5dbd_11ea_b969_5c879cbbbf8dlevel0_row4\" class=\"row_heading level0 row4\" >Naftisol</th>\n",
       "                        <td id=\"T_933c9dde_5dbd_11ea_b969_5c879cbbbf8drow4_col0\" class=\"data row4 col0\" >54.33</td>\n",
       "                        <td id=\"T_933c9dde_5dbd_11ea_b969_5c879cbbbf8drow4_col1\" class=\"data row4 col1\" >52.51</td>\n",
       "                        <td id=\"T_933c9dde_5dbd_11ea_b969_5c879cbbbf8drow4_col2\" class=\"data row4 col2\" >66.17</td>\n",
       "                        <td id=\"T_933c9dde_5dbd_11ea_b969_5c879cbbbf8drow4_col3\" class=\"data row4 col3\" >8.13</td>\n",
       "                        <td id=\"T_933c9dde_5dbd_11ea_b969_5c879cbbbf8drow4_col4\" class=\"data row4 col4\" >0.60</td>\n",
       "            </tr>\n",
       "            <tr>\n",
       "                        <th id=\"T_933c9dde_5dbd_11ea_b969_5c879cbbbf8dlevel0_row5\" class=\"row_heading level0 row5\" >Placebo</th>\n",
       "                        <td id=\"T_933c9dde_5dbd_11ea_b969_5c879cbbbf8drow5_col0\" class=\"data row5 col0\" >54.03</td>\n",
       "                        <td id=\"T_933c9dde_5dbd_11ea_b969_5c879cbbbf8drow5_col1\" class=\"data row5 col1\" >52.29</td>\n",
       "                        <td id=\"T_933c9dde_5dbd_11ea_b969_5c879cbbbf8drow5_col2\" class=\"data row5 col2\" >61.17</td>\n",
       "                        <td id=\"T_933c9dde_5dbd_11ea_b969_5c879cbbbf8drow5_col3\" class=\"data row5 col3\" >7.82</td>\n",
       "                        <td id=\"T_933c9dde_5dbd_11ea_b969_5c879cbbbf8drow5_col4\" class=\"data row5 col4\" >0.58</td>\n",
       "            </tr>\n",
       "            <tr>\n",
       "                        <th id=\"T_933c9dde_5dbd_11ea_b969_5c879cbbbf8dlevel0_row6\" class=\"row_heading level0 row6\" >Propriva</th>\n",
       "                        <td id=\"T_933c9dde_5dbd_11ea_b969_5c879cbbbf8drow6_col0\" class=\"data row6 col0\" >52.32</td>\n",
       "                        <td id=\"T_933c9dde_5dbd_11ea_b969_5c879cbbbf8drow6_col1\" class=\"data row6 col1\" >50.85</td>\n",
       "                        <td id=\"T_933c9dde_5dbd_11ea_b969_5c879cbbbf8drow6_col2\" class=\"data row6 col2\" >42.35</td>\n",
       "                        <td id=\"T_933c9dde_5dbd_11ea_b969_5c879cbbbf8drow6_col3\" class=\"data row6 col3\" >6.51</td>\n",
       "                        <td id=\"T_933c9dde_5dbd_11ea_b969_5c879cbbbf8drow6_col4\" class=\"data row6 col4\" >0.51</td>\n",
       "            </tr>\n",
       "            <tr>\n",
       "                        <th id=\"T_933c9dde_5dbd_11ea_b969_5c879cbbbf8dlevel0_row7\" class=\"row_heading level0 row7\" >Ramicane</th>\n",
       "                        <td id=\"T_933c9dde_5dbd_11ea_b969_5c879cbbbf8drow7_col0\" class=\"data row7 col0\" >40.22</td>\n",
       "                        <td id=\"T_933c9dde_5dbd_11ea_b969_5c879cbbbf8drow7_col1\" class=\"data row7 col1\" >40.67</td>\n",
       "                        <td id=\"T_933c9dde_5dbd_11ea_b969_5c879cbbbf8drow7_col2\" class=\"data row7 col2\" >23.49</td>\n",
       "                        <td id=\"T_933c9dde_5dbd_11ea_b969_5c879cbbbf8drow7_col3\" class=\"data row7 col3\" >4.85</td>\n",
       "                        <td id=\"T_933c9dde_5dbd_11ea_b969_5c879cbbbf8drow7_col4\" class=\"data row7 col4\" >0.32</td>\n",
       "            </tr>\n",
       "            <tr>\n",
       "                        <th id=\"T_933c9dde_5dbd_11ea_b969_5c879cbbbf8dlevel0_row8\" class=\"row_heading level0 row8\" >Stelasyn</th>\n",
       "                        <td id=\"T_933c9dde_5dbd_11ea_b969_5c879cbbbf8drow8_col0\" class=\"data row8 col0\" >54.23</td>\n",
       "                        <td id=\"T_933c9dde_5dbd_11ea_b969_5c879cbbbf8drow8_col1\" class=\"data row8 col1\" >52.43</td>\n",
       "                        <td id=\"T_933c9dde_5dbd_11ea_b969_5c879cbbbf8drow8_col2\" class=\"data row8 col2\" >59.45</td>\n",
       "                        <td id=\"T_933c9dde_5dbd_11ea_b969_5c879cbbbf8drow8_col3\" class=\"data row8 col3\" >7.71</td>\n",
       "                        <td id=\"T_933c9dde_5dbd_11ea_b969_5c879cbbbf8drow8_col4\" class=\"data row8 col4\" >0.57</td>\n",
       "            </tr>\n",
       "            <tr>\n",
       "                        <th id=\"T_933c9dde_5dbd_11ea_b969_5c879cbbbf8dlevel0_row9\" class=\"row_heading level0 row9\" >Zoniferol</th>\n",
       "                        <td id=\"T_933c9dde_5dbd_11ea_b969_5c879cbbbf8drow9_col0\" class=\"data row9 col0\" >53.24</td>\n",
       "                        <td id=\"T_933c9dde_5dbd_11ea_b969_5c879cbbbf8drow9_col1\" class=\"data row9 col1\" >51.82</td>\n",
       "                        <td id=\"T_933c9dde_5dbd_11ea_b969_5c879cbbbf8drow9_col2\" class=\"data row9 col2\" >48.53</td>\n",
       "                        <td id=\"T_933c9dde_5dbd_11ea_b969_5c879cbbbf8drow9_col3\" class=\"data row9 col3\" >6.97</td>\n",
       "                        <td id=\"T_933c9dde_5dbd_11ea_b969_5c879cbbbf8drow9_col4\" class=\"data row9 col4\" >0.52</td>\n",
       "            </tr>\n",
       "    </tbody></table>"
      ],
      "text/plain": [
       "<pandas.io.formats.style.Styler at 0x21dac8b5188>"
      ]
     },
     "execution_count": 64,
     "metadata": {},
     "output_type": "execute_result"
    }
   ],
   "source": [
    "# Generate a summary statistics table of mean, median, variance, standard deviation, \n",
    "# and SEM of the tumor volume for each regimen\n",
    "summary = pd \\\n",
    "    .pivot_table(\n",
    "        mouse_study, \n",
    "        index=\"Drug Regimen\", \n",
    "        values=\"Tumor Volume (mm3)\", \n",
    "        aggfunc=[\"mean\", \"median\", np.var, np.std, st.sem, \"count\"]) \\\n",
    "    .droplevel(1,1)\n",
    "\n",
    "# Display\n",
    "summary.iloc[:, 0:5].rename(columns={\"mean\":\"Mean\",\"median\":\"Median\",\"var\":\"Variance\",\"std\":\"Std Dev\",\"sem\":\"Std Err\"}) \\\n",
    "    .style.set_precision(2).set_caption(\"Total Volume By Drug\")"
   ]
  },
  {
   "cell_type": "markdown",
   "metadata": {},
   "source": [
    "## Bar plots\n",
    "### Generate a bar plot using both Pandas's `DataFrame.plot()` and Matplotlib's `pyplot` that shows the number of data points for each treatment regimen."
   ]
  },
  {
   "cell_type": "code",
   "execution_count": 65,
   "metadata": {
    "scrolled": false
   },
   "outputs": [
    {
     "data": {
      "text/plain": [
       "<Figure size 432x288 with 0 Axes>"
      ]
     },
     "metadata": {},
     "output_type": "display_data"
    },
    {
     "data": {
      "image/png": "[encoded data removed]",
      "text/plain": [
       "<Figure size 432x288 with 1 Axes>"
      ]
     },
     "metadata": {
      "needs_background": "light"
     },
     "output_type": "display_data"
    }
   ],
   "source": [
    "# Generate a bar plot showing number of data points for each treatment regimen using pandas\n",
    "fig1=plt.figure(1)\n",
    "summary.plot.bar(y=\"count\",legend=False, width=0.6)\n",
    "plt.ylabel(\"Number of Data Points\")\n",
    "plt.show()"
   ]
  },
  {
   "cell_type": "code",
   "execution_count": 66,
   "metadata": {},
   "outputs": [],
   "source": [
    "plt.close(fig1)"
   ]
  },
  {
   "cell_type": "code",
   "execution_count": 67,
   "metadata": {
    "scrolled": false
   },
   "outputs": [
    {
     "data": {
      "image/png": "[encoded data removed]",
      "text/plain": [
       "<Figure size 432x288 with 1 Axes>"
      ]
     },
     "metadata": {
      "needs_background": "light"
     },
     "output_type": "display_data"
    }
   ],
   "source": [
    "# Generate a bar plot showing number of data points for each treatment regimen using pyplot\n",
    "fig2 = plt.figure(2)\n",
    "plt.bar(x=summary.index, height=summary[\"count\"], width=0.6)\n",
    "plt.xlabel(\"Drug Regimen\")\n",
    "plt.ylabel(\"Number of Data Points\")\n",
    "plt.xticks(rotation=90)\n",
    "plt.show()"
   ]
  },
  {
   "cell_type": "code",
   "execution_count": 68,
   "metadata": {},
   "outputs": [],
   "source": [
    "plt.close(fig2)"
   ]
  },
  {
   "cell_type": "markdown",
   "metadata": {},
   "source": [
    "## Pie plots\n",
    "### Generate a pie plot using both Pandas's `DataFrame.plot()` and Matplotlib's `pyplot` that shows the distribution of female or male mice in the study."
   ]
  },
  {
   "cell_type": "code",
   "execution_count": 69,
   "metadata": {
    "scrolled": false
   },
   "outputs": [
    {
     "data": {
      "image/png": "[encoded data removed]",
      "text/plain": [
       "<Figure size 432x288 with 1 Axes>"
      ]
     },
     "metadata": {},
     "output_type": "display_data"
    }
   ],
   "source": [
    "# Generate a pie plot showing the distribution of female versus male mice using pandas\n",
    "fig3 = plt.figure(3)\n",
    "mouse_study.Sex.value_counts().plot.pie(autopct='%1.1f%%')\n",
    "plt.show()"
   ]
  },
  {
   "cell_type": "code",
   "execution_count": 70,
   "metadata": {},
   "outputs": [],
   "source": [
    "plt.close(fig3)"
   ]
  },
  {
   "cell_type": "code",
   "execution_count": 71,
   "metadata": {
    "scrolled": false
   },
   "outputs": [
    {
     "data": {
      "image/png": "[encoded data removed]",
      "text/plain": [
       "<Figure size 432x288 with 1 Axes>"
      ]
     },
     "metadata": {},
     "output_type": "display_data"
    }
   ],
   "source": [
    "# Generate a pie plot showing the distribution of female versus male mice using pyplot\n",
    "fig4 = plt.figure(4)\n",
    "sex_counts = mouse_study.Sex.value_counts()\n",
    "plt.pie(sex_counts, labels=sex_counts.index, autopct='%1.1f%%')\n",
    "plt.ylabel(\"Sex\")\n",
    "plt.show()"
   ]
  },
  {
   "cell_type": "code",
   "execution_count": 72,
   "metadata": {},
   "outputs": [],
   "source": [
    "plt.close(fig4)"
   ]
  },
  {
   "cell_type": "markdown",
   "metadata": {},
   "source": [
    "## Quartiles, outliers and boxplots\n",
    "### Calculate the final tumor volume of each mouse across four of the most promising treatment regimens: Capomulin, Ramicane, Infubinol, and Ceftamin. Calculate the quartiles and IQR and quantitatively determine if there are any potential outliers across all four treatment regimens."
   ]
  },
  {
   "cell_type": "code",
   "execution_count": 73,
   "metadata": {
    "scrolled": false
   },
   "outputs": [
    {
     "data": {
      "text/html": [
       "<div>\n",
       "<style scoped>\n",
       "    .dataframe tbody tr th:only-of-type {\n",
       "        vertical-align: middle;\n",
       "    }\n",
       "\n",
       "    .dataframe tbody tr th {\n",
       "        vertical-align: top;\n",
       "    }\n",
       "\n",
       "    .dataframe thead th {\n",
       "        text-align: right;\n",
       "    }\n",
       "</style>\n",
       "<table border=\"1\" class=\"dataframe\">\n",
       "  <thead>\n",
       "    <tr style=\"text-align: right;\">\n",
       "      <th></th>\n",
       "      <th>Mouse ID</th>\n",
       "      <th>Drug Regimen</th>\n",
       "      <th>Sex</th>\n",
       "      <th>Age_months</th>\n",
       "      <th>Weight (g)</th>\n",
       "      <th>Timepoint</th>\n",
       "      <th>Tumor Volume (mm3)</th>\n",
       "      <th>Metastatic Sites</th>\n",
       "      <th>0.0</th>\n",
       "      <th>0.25</th>\n",
       "      <th>0.5</th>\n",
       "      <th>0.75</th>\n",
       "      <th>1.0</th>\n",
       "      <th>IQR</th>\n",
       "      <th>Outlier Low Wall</th>\n",
       "      <th>Outlier High Wall</th>\n",
       "    </tr>\n",
       "  </thead>\n",
       "  <tbody>\n",
       "  </tbody>\n",
       "</table>\n",
       "</div>"
      ],
      "text/plain": [
       "Empty DataFrame\n",
       "Columns: [Mouse ID, Drug Regimen, Sex, Age_months, Weight (g), Timepoint, Tumor Volume (mm3), Metastatic Sites, 0.0, 0.25, 0.5, 0.75, 1.0, IQR, Outlier Low Wall, Outlier High Wall]\n",
       "Index: []"
      ]
     },
     "execution_count": 73,
     "metadata": {},
     "output_type": "execute_result"
    }
   ],
   "source": [
    "# Calculate the final tumor volume of each mouse across four of the most promising treatment regimens. \n",
    "# I interpreted the \"final\" tumor volume to mean when Timepoint = 45, which was the common terminal Timepoint.\n",
    "promising_regimens = [\"Capomulin\", \"Ramicane\", \"Infubinol\", \"Ceftamin\"]\n",
    "full_four = mouse_study[(mouse_study.Timepoint==45) \n",
    "                        & (mouse_study[\"Drug Regimen\"].isin(promising_regimens))]\n",
    "\n",
    "# Calculate the IQR and quantitatively determine if there are any potential outliers. \n",
    "# First, compute the quartile boundaries for each promising regimen\n",
    "# I am also curious to see the min and max values, so I am including q = 0 and q = 1\n",
    "quartiles = full_four.groupby(\"Drug Regimen\").apply(pd.DataFrame.quantile, q=np.arange(0.0,1.25,0.25))[\"Tumor Volume (mm3)\"]\n",
    "\n",
    "# Reshape the quartiles\n",
    "quartiles_as_columns = quartiles \\\n",
    "    .reset_index() \\\n",
    "    .rename(columns={\"level_1\":\"Quartile\"}) \\\n",
    "    .pivot(index='Drug Regimen', columns='Quartile', values='Tumor Volume (mm3)') \\\n",
    "    .reset_index()\n",
    "# Add computed columns for IQR, and Outlier Boundaries\n",
    "quartiles_as_columns[\"IQR\"] = quartiles_as_columns[0.75] - quartiles_as_columns[0.25]\n",
    "quartiles_as_columns[\"Outlier Low Wall\"] = quartiles_as_columns[0.25] - 1.5 * quartiles_as_columns[\"IQR\"]\n",
    "quartiles_as_columns[\"Outlier High Wall\"] = quartiles_as_columns[0.75] + 1.5 * quartiles_as_columns[\"IQR\"]\n",
    "\n",
    "# Combine the data with the quartiles\n",
    "full_four = full_four.merge(quartiles_as_columns)\n",
    "\n",
    "# Search for outliers\n",
    "outliers = full_four[(full_four[\"Tumor Volume (mm3)\"] < full_four[\"Outlier Low Wall\"]) \n",
    "                     | (full_four[\"Tumor Volume (mm3)\"] > full_four[\"Outlier High Wall\"])]\n",
    "outliers\n",
    "# My approach identified no outliers"
   ]
  },
  {
   "cell_type": "markdown",
   "metadata": {},
   "source": [
    "* No outliers were found using my approach."
   ]
  },
  {
   "cell_type": "markdown",
   "metadata": {},
   "source": [
    "## Using Matplotlib, generate a box and whisker plot of the final tumor volume for all four treatment regimens and highlight any potential outliers in the plot by changing their color and style.\n",
    "  **Hint**: All four box plots should be within the same figure\n",
    "        * I tried two approaches to put the four whisker plots into one figure."
   ]
  },
  {
   "cell_type": "code",
   "execution_count": 85,
   "metadata": {},
   "outputs": [
    {
     "data": {
      "image/png": "[encoded data removed]",
      "text/plain": [
       "<Figure size 864x648 with 4 Axes>"
      ]
     },
     "metadata": {
      "needs_background": "light"
     },
     "output_type": "display_data"
    }
   ],
   "source": [
    "# Generate a box plot of the final tumor volume of each mouse across four regimens of interest\n",
    "fig5 = plt.figure(5, figsize=[12, 9])\n",
    "for row in range(len(promising_regimens)):\n",
    "    regimen = promising_regimens[row]\n",
    "    plt.subplot(2,2,row+1)\n",
    "    plt.boxplot(full_four[full_four[\"Drug Regimen\"] == regimen][\"Tumor Volume (mm3)\"])\n",
    "    ax1 = plt.gca()\n",
    "    ax1.axes.tick_params(axis='x',length=0,labelbottom=False)\n",
    "    plt.ylabel(\"Tumor Volume (mm3)\")\n",
    "    plt.title(regimen)"
   ]
  },
  {
   "cell_type": "code",
   "execution_count": 75,
   "metadata": {},
   "outputs": [],
   "source": [
    "plt.close(fig5)"
   ]
  },
  {
   "cell_type": "code",
   "execution_count": 87,
   "metadata": {},
   "outputs": [
    {
     "data": {
      "image/png": "[encoded data removed]",
      "text/plain": [
       "<Figure size 864x648 with 1 Axes>"
      ]
     },
     "metadata": {
      "needs_background": "light"
     },
     "output_type": "display_data"
    }
   ],
   "source": [
    "# Create a list of DataFrames (or Series)\n",
    "four_distinct2 = [full_four[full_four[\"Drug Regimen\"] == regimen][\"Tumor Volume (mm3)\"].rename(regimen) \n",
    "                  for regimen in promising_regimens]\n",
    "fig6 = plt.figure(6, figsize=[12, 9])\n",
    "plt.boxplot(four_distinct2, labels=promising_regimens)\n",
    "plt.ylabel(\"Tumor Volume (mm3)\")\n",
    "plt.show()"
   ]
  },
  {
   "cell_type": "code",
   "execution_count": 77,
   "metadata": {},
   "outputs": [],
   "source": [
    "plt.close(fig6)"
   ]
  },
  {
   "cell_type": "markdown",
   "metadata": {},
   "source": [
    "## Line Plot"
   ]
  },
  {
   "cell_type": "code",
   "execution_count": 78,
   "metadata": {
    "scrolled": false
   },
   "outputs": [
    {
     "data": {
      "image/png": "[encoded data removed]",
      "text/plain": [
       "<Figure size 432x288 with 1 Axes>"
      ]
     },
     "metadata": {
      "needs_background": "light"
     },
     "output_type": "display_data"
    }
   ],
   "source": [
    "# Generate a line plot of time point versus tumor volume for a mouse treated with Capomulin\n",
    "capomulin_study = mouse_study[mouse_study[\"Drug Regimen\"]==\"Capomulin\"]\n",
    "mouse = mouse_study[mouse_study[\"Mouse ID\"] == random.choice(capomulin_study[\"Mouse ID\"].unique())]\n",
    "fig7 = plt.figure(7)\n",
    "plt.plot(mouse.Timepoint, mouse[\"Tumor Volume (mm3)\"])\n",
    "plt.xlabel(\"Time\")\n",
    "plt.ylabel(\"Tumor Volume (mm3)\")\n",
    "plt.title(\"Capomulin Impact on Mouse \" + mouse[\"Mouse ID\"].iloc[0])\n",
    "plt.show()\n"
   ]
  },
  {
   "cell_type": "markdown",
   "metadata": {},
   "source": [
    "## Scatter plot"
   ]
  },
  {
   "cell_type": "code",
   "execution_count": 79,
   "metadata": {},
   "outputs": [],
   "source": [
    "plt.close(fig7)"
   ]
  },
  {
   "cell_type": "code",
   "execution_count": 80,
   "metadata": {
    "scrolled": false
   },
   "outputs": [],
   "source": [
    "# Create a DataFrame of weight and tumor volume for Capomulin mice\n",
    "weight_and_volume = pd.pivot_table(\n",
    "    capomulin_study, \n",
    "    index=\"Mouse ID\", \n",
    "    values=[\"Weight (g)\", \"Tumor Volume (mm3)\"], \n",
    "    aggfunc=\"mean\")"
   ]
  },
  {
   "cell_type": "code",
   "execution_count": 84,
   "metadata": {},
   "outputs": [
    {
     "name": "stdout",
     "output_type": "stream",
     "text": [
      "The correlation between mouse weight and tumor volume is 0.84.\n"
     ]
    }
   ],
   "source": [
    "# Calculate the correlation coefficient and linear regression model for mouse weight \n",
    "# and average tumor volume for the Capomulin regimen\n",
    "corr,_ = st.pearsonr(weight_and_volume[\"Weight (g)\"], weight_and_volume[\"Tumor Volume (mm3)\"])\n",
    "print(f\"The correlation between mouse weight and tumor volume is {corr:.2f}.\")"
   ]
  },
  {
   "cell_type": "code",
   "execution_count": 81,
   "metadata": {
    "scrolled": false
   },
   "outputs": [
    {
     "data": {
      "image/png": "[encoded data removed]",
      "text/plain": [
       "<Figure size 432x288 with 1 Axes>"
      ]
     },
     "metadata": {
      "needs_background": "light"
     },
     "output_type": "display_data"
    }
   ],
   "source": [
    "# Add the linear regression equation and line to plot\n",
    "x_values = weight_and_volume[\"Weight (g)\"]\n",
    "y_values = weight_and_volume[\"Tumor Volume (mm3)\"]\n",
    "(slope, intercept, rvalue, pvalue, stderr) = st.linregress(x_values, y_values)\n",
    "regress_values = x_values * slope + intercept\n",
    "line_eq = \"y = \" + str(round(slope,2)) + \"x + \" + str(round(intercept,2))\n",
    "\n",
    "# Plot\n",
    "fig8 = plt.figure(8)\n",
    "plt.scatter(x_values,y_values)\n",
    "plt.plot(x_values,regress_values,\"r-\")\n",
    "plt.annotate(line_eq,(18,38),color=\"red\")\n",
    "plt.annotate(f\"The correlation is {corr:.2f}\",(15,45))\n",
    "plt.xlabel('Weight (g)')\n",
    "plt.ylabel('Tumor Volume (mm3)')\n",
    "plt.title(\"Tumor Volume v. Weight with Capomulin\")\n",
    "plt.show()"
   ]
  },
  {
   "cell_type": "code",
   "execution_count": 82,
   "metadata": {},
   "outputs": [],
   "source": [
    "plt.close(fig8)"
   ]
  },
  {
   "cell_type": "markdown",
   "metadata": {},
   "source": [
    "## Observations and Insights\n",
    "* Of the mice treated with Capomulin, tumor volume was strongly correlated with mice weight.\n",
    "* Capomulin had the second-smallest average tumor volumes in this study.\n",
    "* With more time and energy, I would study \"tumor volume % reduction\" as a comparative criteria.\n",
    "* Capomulin was not effective for all mice.\n",
    "* Capomulin may cause whisker loss, diarrhea, constipation, loss of appetite, insomnia, and tail shortening.  Consult your veterinarian before taking."
   ]
  }
 ],
 "metadata": {
  "anaconda-cloud": {},
  "kernelspec": {
   "display_name": "Python 3",
   "language": "python",
   "name": "python3"
  },
  "language_info": {
   "codemirror_mode": {
    "name": "ipython",
    "version": 3
   },
   "file_extension": ".py",
   "mimetype": "text/x-python",
   "name": "python",
   "nbconvert_exporter": "python",
   "pygments_lexer": "ipython3",
   "version": "3.7.6"
  }
 },
 "nbformat": 4,
 "nbformat_minor": 4
}
